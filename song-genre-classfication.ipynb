{
 "cells": [
  {
   "cell_type": "markdown",
   "id": "f0b43d4e",
   "metadata": {
    "papermill": {
     "duration": 0.008983,
     "end_time": "2022-08-21T21:13:19.027953",
     "exception": false,
     "start_time": "2022-08-21T21:13:19.018970",
     "status": "completed"
    },
    "tags": []
   },
   "source": [
    "# importing librarys"
   ]
  },
  {
   "cell_type": "code",
   "execution_count": 1,
   "id": "807f00b5",
   "metadata": {
    "execution": {
     "iopub.execute_input": "2022-08-21T21:13:19.045768Z",
     "iopub.status.busy": "2022-08-21T21:13:19.044866Z",
     "iopub.status.idle": "2022-08-21T21:13:20.427534Z",
     "shell.execute_reply": "2022-08-21T21:13:20.425981Z"
    },
    "papermill": {
     "duration": 1.394793,
     "end_time": "2022-08-21T21:13:20.430460",
     "exception": false,
     "start_time": "2022-08-21T21:13:19.035667",
     "status": "completed"
    },
    "tags": []
   },
   "outputs": [],
   "source": [
    "import pandas as pd\n",
    "import numpy as np\n",
    "from sklearn.preprocessing import StandardScaler\n",
    "%matplotlib inline\n",
    "import matplotlib.pyplot as plt\n",
    "from sklearn.decomposition import PCA\n",
    "from sklearn.model_selection import train_test_split\n",
    "from sklearn.tree import DecisionTreeClassifier\n",
    "\n",
    "from sklearn.linear_model import LogisticRegression\n",
    "from sklearn.metrics import classification_report\n",
    "from sklearn.model_selection import KFold, cross_val_score\n",
    "import warnings \n",
    "warnings.filterwarnings(\"ignore\", category=DeprecationWarning)\n",
    "from sklearn.model_selection import StratifiedKFold"
   ]
  },
  {
   "cell_type": "markdown",
   "id": "49c032ae",
   "metadata": {
    "papermill": {
     "duration": 0.007313,
     "end_time": "2022-08-21T21:13:20.445443",
     "exception": false,
     "start_time": "2022-08-21T21:13:20.438130",
     "status": "completed"
    },
    "tags": []
   },
   "source": [
    "# importing data"
   ]
  },
  {
   "cell_type": "code",
   "execution_count": 2,
   "id": "7bb3e346",
   "metadata": {
    "execution": {
     "iopub.execute_input": "2022-08-21T21:13:20.462484Z",
     "iopub.status.busy": "2022-08-21T21:13:20.461933Z",
     "iopub.status.idle": "2022-08-21T21:13:20.798391Z",
     "shell.execute_reply": "2022-08-21T21:13:20.797031Z"
    },
    "papermill": {
     "duration": 0.348594,
     "end_time": "2022-08-21T21:13:20.801524",
     "exception": false,
     "start_time": "2022-08-21T21:13:20.452930",
     "status": "completed"
    },
    "tags": []
   },
   "outputs": [],
   "source": [
    "hiphop_track = pd.read_csv('../input/classify-song-genres-from-audio-data/fma-rock-vs-hiphop.csv')\n",
    "\n",
    "echonest_m = pd.read_json('../input/classify-song-genres-from-audio-data/echonest-metrics.json',precise_float=True)"
   ]
  },
  {
   "cell_type": "code",
   "execution_count": 3,
   "id": "ad641818",
   "metadata": {
    "execution": {
     "iopub.execute_input": "2022-08-21T21:13:20.818857Z",
     "iopub.status.busy": "2022-08-21T21:13:20.818439Z",
     "iopub.status.idle": "2022-08-21T21:13:20.855474Z",
     "shell.execute_reply": "2022-08-21T21:13:20.854198Z"
    },
    "papermill": {
     "duration": 0.048933,
     "end_time": "2022-08-21T21:13:20.857975",
     "exception": false,
     "start_time": "2022-08-21T21:13:20.809042",
     "status": "completed"
    },
    "tags": []
   },
   "outputs": [
    {
     "data": {
      "text/html": [
       "<div>\n",
       "<style scoped>\n",
       "    .dataframe tbody tr th:only-of-type {\n",
       "        vertical-align: middle;\n",
       "    }\n",
       "\n",
       "    .dataframe tbody tr th {\n",
       "        vertical-align: top;\n",
       "    }\n",
       "\n",
       "    .dataframe thead th {\n",
       "        text-align: right;\n",
       "    }\n",
       "</style>\n",
       "<table border=\"1\" class=\"dataframe\">\n",
       "  <thead>\n",
       "    <tr style=\"text-align: right;\">\n",
       "      <th></th>\n",
       "      <th>track_id</th>\n",
       "      <th>bit_rate</th>\n",
       "      <th>comments</th>\n",
       "      <th>composer</th>\n",
       "      <th>date_created</th>\n",
       "      <th>date_recorded</th>\n",
       "      <th>duration</th>\n",
       "      <th>favorites</th>\n",
       "      <th>genre_top</th>\n",
       "      <th>genres</th>\n",
       "      <th>...</th>\n",
       "      <th>information</th>\n",
       "      <th>interest</th>\n",
       "      <th>language_code</th>\n",
       "      <th>license</th>\n",
       "      <th>listens</th>\n",
       "      <th>lyricist</th>\n",
       "      <th>number</th>\n",
       "      <th>publisher</th>\n",
       "      <th>tags</th>\n",
       "      <th>title</th>\n",
       "    </tr>\n",
       "  </thead>\n",
       "  <tbody>\n",
       "    <tr>\n",
       "      <th>0</th>\n",
       "      <td>135</td>\n",
       "      <td>256000</td>\n",
       "      <td>1</td>\n",
       "      <td>NaN</td>\n",
       "      <td>2008-11-26 01:43:26</td>\n",
       "      <td>2008-11-26 00:00:00</td>\n",
       "      <td>837</td>\n",
       "      <td>0</td>\n",
       "      <td>Rock</td>\n",
       "      <td>[45, 58]</td>\n",
       "      <td>...</td>\n",
       "      <td>NaN</td>\n",
       "      <td>2484</td>\n",
       "      <td>en</td>\n",
       "      <td>Attribution-NonCommercial-ShareAlike 3.0 Inter...</td>\n",
       "      <td>1832</td>\n",
       "      <td>NaN</td>\n",
       "      <td>0</td>\n",
       "      <td>NaN</td>\n",
       "      <td>[]</td>\n",
       "      <td>Father's Day</td>\n",
       "    </tr>\n",
       "    <tr>\n",
       "      <th>1</th>\n",
       "      <td>136</td>\n",
       "      <td>256000</td>\n",
       "      <td>1</td>\n",
       "      <td>NaN</td>\n",
       "      <td>2008-11-26 01:43:35</td>\n",
       "      <td>2008-11-26 00:00:00</td>\n",
       "      <td>509</td>\n",
       "      <td>0</td>\n",
       "      <td>Rock</td>\n",
       "      <td>[45, 58]</td>\n",
       "      <td>...</td>\n",
       "      <td>NaN</td>\n",
       "      <td>1948</td>\n",
       "      <td>en</td>\n",
       "      <td>Attribution-NonCommercial-ShareAlike 3.0 Inter...</td>\n",
       "      <td>1498</td>\n",
       "      <td>NaN</td>\n",
       "      <td>0</td>\n",
       "      <td>NaN</td>\n",
       "      <td>[]</td>\n",
       "      <td>Peel Back The Mountain Sky</td>\n",
       "    </tr>\n",
       "    <tr>\n",
       "      <th>2</th>\n",
       "      <td>151</td>\n",
       "      <td>192000</td>\n",
       "      <td>0</td>\n",
       "      <td>NaN</td>\n",
       "      <td>2008-11-26 01:44:55</td>\n",
       "      <td>NaN</td>\n",
       "      <td>192</td>\n",
       "      <td>0</td>\n",
       "      <td>Rock</td>\n",
       "      <td>[25]</td>\n",
       "      <td>...</td>\n",
       "      <td>NaN</td>\n",
       "      <td>701</td>\n",
       "      <td>en</td>\n",
       "      <td>Attribution-NonCommercial-ShareAlike 3.0 Inter...</td>\n",
       "      <td>148</td>\n",
       "      <td>NaN</td>\n",
       "      <td>4</td>\n",
       "      <td>NaN</td>\n",
       "      <td>[]</td>\n",
       "      <td>Untitled 04</td>\n",
       "    </tr>\n",
       "    <tr>\n",
       "      <th>3</th>\n",
       "      <td>152</td>\n",
       "      <td>192000</td>\n",
       "      <td>0</td>\n",
       "      <td>NaN</td>\n",
       "      <td>2008-11-26 01:44:58</td>\n",
       "      <td>NaN</td>\n",
       "      <td>193</td>\n",
       "      <td>0</td>\n",
       "      <td>Rock</td>\n",
       "      <td>[25]</td>\n",
       "      <td>...</td>\n",
       "      <td>NaN</td>\n",
       "      <td>637</td>\n",
       "      <td>en</td>\n",
       "      <td>Attribution-NonCommercial-ShareAlike 3.0 Inter...</td>\n",
       "      <td>98</td>\n",
       "      <td>NaN</td>\n",
       "      <td>11</td>\n",
       "      <td>NaN</td>\n",
       "      <td>[]</td>\n",
       "      <td>Untitled 11</td>\n",
       "    </tr>\n",
       "    <tr>\n",
       "      <th>4</th>\n",
       "      <td>153</td>\n",
       "      <td>256000</td>\n",
       "      <td>0</td>\n",
       "      <td>Arc and Sender</td>\n",
       "      <td>2008-11-26 01:45:00</td>\n",
       "      <td>2008-11-26 00:00:00</td>\n",
       "      <td>405</td>\n",
       "      <td>5</td>\n",
       "      <td>Rock</td>\n",
       "      <td>[26]</td>\n",
       "      <td>...</td>\n",
       "      <td>NaN</td>\n",
       "      <td>354</td>\n",
       "      <td>en</td>\n",
       "      <td>Attribution-NonCommercial-NoDerivatives (aka M...</td>\n",
       "      <td>424</td>\n",
       "      <td>NaN</td>\n",
       "      <td>2</td>\n",
       "      <td>NaN</td>\n",
       "      <td>[]</td>\n",
       "      <td>Hundred-Year Flood</td>\n",
       "    </tr>\n",
       "  </tbody>\n",
       "</table>\n",
       "<p>5 rows × 21 columns</p>\n",
       "</div>"
      ],
      "text/plain": [
       "   track_id  bit_rate  comments        composer         date_created  \\\n",
       "0       135    256000         1             NaN  2008-11-26 01:43:26   \n",
       "1       136    256000         1             NaN  2008-11-26 01:43:35   \n",
       "2       151    192000         0             NaN  2008-11-26 01:44:55   \n",
       "3       152    192000         0             NaN  2008-11-26 01:44:58   \n",
       "4       153    256000         0  Arc and Sender  2008-11-26 01:45:00   \n",
       "\n",
       "         date_recorded  duration  favorites genre_top    genres  ...  \\\n",
       "0  2008-11-26 00:00:00       837          0      Rock  [45, 58]  ...   \n",
       "1  2008-11-26 00:00:00       509          0      Rock  [45, 58]  ...   \n",
       "2                  NaN       192          0      Rock      [25]  ...   \n",
       "3                  NaN       193          0      Rock      [25]  ...   \n",
       "4  2008-11-26 00:00:00       405          5      Rock      [26]  ...   \n",
       "\n",
       "  information interest  language_code  \\\n",
       "0         NaN     2484             en   \n",
       "1         NaN     1948             en   \n",
       "2         NaN      701             en   \n",
       "3         NaN      637             en   \n",
       "4         NaN      354             en   \n",
       "\n",
       "                                             license listens  lyricist number  \\\n",
       "0  Attribution-NonCommercial-ShareAlike 3.0 Inter...    1832       NaN      0   \n",
       "1  Attribution-NonCommercial-ShareAlike 3.0 Inter...    1498       NaN      0   \n",
       "2  Attribution-NonCommercial-ShareAlike 3.0 Inter...     148       NaN      4   \n",
       "3  Attribution-NonCommercial-ShareAlike 3.0 Inter...      98       NaN     11   \n",
       "4  Attribution-NonCommercial-NoDerivatives (aka M...     424       NaN      2   \n",
       "\n",
       "   publisher tags                       title  \n",
       "0        NaN   []                Father's Day  \n",
       "1        NaN   []  Peel Back The Mountain Sky  \n",
       "2        NaN   []                 Untitled 04  \n",
       "3        NaN   []                 Untitled 11  \n",
       "4        NaN   []          Hundred-Year Flood  \n",
       "\n",
       "[5 rows x 21 columns]"
      ]
     },
     "execution_count": 3,
     "metadata": {},
     "output_type": "execute_result"
    }
   ],
   "source": [
    "hiphop_track.head()"
   ]
  },
  {
   "cell_type": "code",
   "execution_count": 4,
   "id": "e0373a40",
   "metadata": {
    "execution": {
     "iopub.execute_input": "2022-08-21T21:13:20.875964Z",
     "iopub.status.busy": "2022-08-21T21:13:20.874896Z",
     "iopub.status.idle": "2022-08-21T21:13:20.891625Z",
     "shell.execute_reply": "2022-08-21T21:13:20.890475Z"
    },
    "papermill": {
     "duration": 0.028496,
     "end_time": "2022-08-21T21:13:20.894265",
     "exception": false,
     "start_time": "2022-08-21T21:13:20.865769",
     "status": "completed"
    },
    "tags": []
   },
   "outputs": [
    {
     "data": {
      "text/html": [
       "<div>\n",
       "<style scoped>\n",
       "    .dataframe tbody tr th:only-of-type {\n",
       "        vertical-align: middle;\n",
       "    }\n",
       "\n",
       "    .dataframe tbody tr th {\n",
       "        vertical-align: top;\n",
       "    }\n",
       "\n",
       "    .dataframe thead th {\n",
       "        text-align: right;\n",
       "    }\n",
       "</style>\n",
       "<table border=\"1\" class=\"dataframe\">\n",
       "  <thead>\n",
       "    <tr style=\"text-align: right;\">\n",
       "      <th></th>\n",
       "      <th>track_id</th>\n",
       "      <th>acousticness</th>\n",
       "      <th>danceability</th>\n",
       "      <th>energy</th>\n",
       "      <th>instrumentalness</th>\n",
       "      <th>liveness</th>\n",
       "      <th>speechiness</th>\n",
       "      <th>tempo</th>\n",
       "      <th>valence</th>\n",
       "    </tr>\n",
       "  </thead>\n",
       "  <tbody>\n",
       "    <tr>\n",
       "      <th>0</th>\n",
       "      <td>2</td>\n",
       "      <td>0.416675</td>\n",
       "      <td>0.675894</td>\n",
       "      <td>0.634476</td>\n",
       "      <td>0.010628</td>\n",
       "      <td>0.177647</td>\n",
       "      <td>0.159310</td>\n",
       "      <td>165.922</td>\n",
       "      <td>0.576661</td>\n",
       "    </tr>\n",
       "    <tr>\n",
       "      <th>1</th>\n",
       "      <td>3</td>\n",
       "      <td>0.374408</td>\n",
       "      <td>0.528643</td>\n",
       "      <td>0.817461</td>\n",
       "      <td>0.001851</td>\n",
       "      <td>0.105880</td>\n",
       "      <td>0.461818</td>\n",
       "      <td>126.957</td>\n",
       "      <td>0.269240</td>\n",
       "    </tr>\n",
       "    <tr>\n",
       "      <th>2</th>\n",
       "      <td>5</td>\n",
       "      <td>0.043567</td>\n",
       "      <td>0.745566</td>\n",
       "      <td>0.701470</td>\n",
       "      <td>0.000697</td>\n",
       "      <td>0.373143</td>\n",
       "      <td>0.124595</td>\n",
       "      <td>100.260</td>\n",
       "      <td>0.621661</td>\n",
       "    </tr>\n",
       "    <tr>\n",
       "      <th>3</th>\n",
       "      <td>10</td>\n",
       "      <td>0.951670</td>\n",
       "      <td>0.658179</td>\n",
       "      <td>0.924525</td>\n",
       "      <td>0.965427</td>\n",
       "      <td>0.115474</td>\n",
       "      <td>0.032985</td>\n",
       "      <td>111.562</td>\n",
       "      <td>0.963590</td>\n",
       "    </tr>\n",
       "    <tr>\n",
       "      <th>4</th>\n",
       "      <td>134</td>\n",
       "      <td>0.452217</td>\n",
       "      <td>0.513238</td>\n",
       "      <td>0.560410</td>\n",
       "      <td>0.019443</td>\n",
       "      <td>0.096567</td>\n",
       "      <td>0.525519</td>\n",
       "      <td>114.290</td>\n",
       "      <td>0.894072</td>\n",
       "    </tr>\n",
       "  </tbody>\n",
       "</table>\n",
       "</div>"
      ],
      "text/plain": [
       "   track_id  acousticness  danceability    energy  instrumentalness  liveness  \\\n",
       "0         2      0.416675      0.675894  0.634476          0.010628  0.177647   \n",
       "1         3      0.374408      0.528643  0.817461          0.001851  0.105880   \n",
       "2         5      0.043567      0.745566  0.701470          0.000697  0.373143   \n",
       "3        10      0.951670      0.658179  0.924525          0.965427  0.115474   \n",
       "4       134      0.452217      0.513238  0.560410          0.019443  0.096567   \n",
       "\n",
       "   speechiness    tempo   valence  \n",
       "0     0.159310  165.922  0.576661  \n",
       "1     0.461818  126.957  0.269240  \n",
       "2     0.124595  100.260  0.621661  \n",
       "3     0.032985  111.562  0.963590  \n",
       "4     0.525519  114.290  0.894072  "
      ]
     },
     "execution_count": 4,
     "metadata": {},
     "output_type": "execute_result"
    }
   ],
   "source": [
    "echonest_m.head()"
   ]
  },
  {
   "cell_type": "markdown",
   "id": "dab05a04",
   "metadata": {
    "papermill": {
     "duration": 0.007747,
     "end_time": "2022-08-21T21:13:20.909956",
     "exception": false,
     "start_time": "2022-08-21T21:13:20.902209",
     "status": "completed"
    },
    "tags": []
   },
   "source": [
    "# merging relevant column of hiphop track and echonest as both have same track id"
   ]
  },
  {
   "cell_type": "code",
   "execution_count": 5,
   "id": "7012b932",
   "metadata": {
    "execution": {
     "iopub.execute_input": "2022-08-21T21:13:20.929070Z",
     "iopub.status.busy": "2022-08-21T21:13:20.928251Z",
     "iopub.status.idle": "2022-08-21T21:13:20.953151Z",
     "shell.execute_reply": "2022-08-21T21:13:20.952282Z"
    },
    "papermill": {
     "duration": 0.037357,
     "end_time": "2022-08-21T21:13:20.956076",
     "exception": false,
     "start_time": "2022-08-21T21:13:20.918719",
     "status": "completed"
    },
    "tags": []
   },
   "outputs": [],
   "source": [
    "merger_track = echonest_m.merge(hiphop_track[['track_id','genre_top']],on='track_id')"
   ]
  },
  {
   "cell_type": "markdown",
   "id": "0febf4f8",
   "metadata": {
    "papermill": {
     "duration": 0.007726,
     "end_time": "2022-08-21T21:13:20.972124",
     "exception": false,
     "start_time": "2022-08-21T21:13:20.964398",
     "status": "completed"
    },
    "tags": []
   },
   "source": [
    "# inspecting resultant dataframe"
   ]
  },
  {
   "cell_type": "code",
   "execution_count": 6,
   "id": "9e8fc8f8",
   "metadata": {
    "execution": {
     "iopub.execute_input": "2022-08-21T21:13:20.990400Z",
     "iopub.status.busy": "2022-08-21T21:13:20.989584Z",
     "iopub.status.idle": "2022-08-21T21:13:20.999659Z",
     "shell.execute_reply": "2022-08-21T21:13:20.998601Z"
    },
    "papermill": {
     "duration": 0.021885,
     "end_time": "2022-08-21T21:13:21.002056",
     "exception": false,
     "start_time": "2022-08-21T21:13:20.980171",
     "status": "completed"
    },
    "tags": []
   },
   "outputs": [
    {
     "data": {
      "text/plain": [
       "track_id            0\n",
       "acousticness        0\n",
       "danceability        0\n",
       "energy              0\n",
       "instrumentalness    0\n",
       "liveness            0\n",
       "speechiness         0\n",
       "tempo               0\n",
       "valence             0\n",
       "genre_top           0\n",
       "dtype: int64"
      ]
     },
     "execution_count": 6,
     "metadata": {},
     "output_type": "execute_result"
    }
   ],
   "source": [
    "merger_track.isnull().sum()"
   ]
  },
  {
   "cell_type": "markdown",
   "id": "cc4bc1d7",
   "metadata": {
    "papermill": {
     "duration": 0.008816,
     "end_time": "2022-08-21T21:13:21.019178",
     "exception": false,
     "start_time": "2022-08-21T21:13:21.010362",
     "status": "completed"
    },
    "tags": []
   },
   "source": [
    "# There is no null value in our data"
   ]
  },
  {
   "cell_type": "code",
   "execution_count": 7,
   "id": "093ddbb7",
   "metadata": {
    "execution": {
     "iopub.execute_input": "2022-08-21T21:13:21.038208Z",
     "iopub.status.busy": "2022-08-21T21:13:21.037395Z",
     "iopub.status.idle": "2022-08-21T21:13:21.058354Z",
     "shell.execute_reply": "2022-08-21T21:13:21.056715Z"
    },
    "papermill": {
     "duration": 0.033365,
     "end_time": "2022-08-21T21:13:21.061037",
     "exception": false,
     "start_time": "2022-08-21T21:13:21.027672",
     "status": "completed"
    },
    "tags": []
   },
   "outputs": [
    {
     "name": "stdout",
     "output_type": "stream",
     "text": [
      "<class 'pandas.core.frame.DataFrame'>\n",
      "Int64Index: 4802 entries, 0 to 4801\n",
      "Data columns (total 10 columns):\n",
      " #   Column            Non-Null Count  Dtype  \n",
      "---  ------            --------------  -----  \n",
      " 0   track_id          4802 non-null   int64  \n",
      " 1   acousticness      4802 non-null   float64\n",
      " 2   danceability      4802 non-null   float64\n",
      " 3   energy            4802 non-null   float64\n",
      " 4   instrumentalness  4802 non-null   float64\n",
      " 5   liveness          4802 non-null   float64\n",
      " 6   speechiness       4802 non-null   float64\n",
      " 7   tempo             4802 non-null   float64\n",
      " 8   valence           4802 non-null   float64\n",
      " 9   genre_top         4802 non-null   object \n",
      "dtypes: float64(8), int64(1), object(1)\n",
      "memory usage: 412.7+ KB\n"
     ]
    }
   ],
   "source": [
    "merger_track.info()"
   ]
  },
  {
   "cell_type": "code",
   "execution_count": 8,
   "id": "681ce1f8",
   "metadata": {
    "execution": {
     "iopub.execute_input": "2022-08-21T21:13:21.079750Z",
     "iopub.status.busy": "2022-08-21T21:13:21.079267Z",
     "iopub.status.idle": "2022-08-21T21:13:21.102397Z",
     "shell.execute_reply": "2022-08-21T21:13:21.101106Z"
    },
    "papermill": {
     "duration": 0.035225,
     "end_time": "2022-08-21T21:13:21.104981",
     "exception": false,
     "start_time": "2022-08-21T21:13:21.069756",
     "status": "completed"
    },
    "tags": []
   },
   "outputs": [
    {
     "data": {
      "text/html": [
       "<div>\n",
       "<style scoped>\n",
       "    .dataframe tbody tr th:only-of-type {\n",
       "        vertical-align: middle;\n",
       "    }\n",
       "\n",
       "    .dataframe tbody tr th {\n",
       "        vertical-align: top;\n",
       "    }\n",
       "\n",
       "    .dataframe thead th {\n",
       "        text-align: right;\n",
       "    }\n",
       "</style>\n",
       "<table border=\"1\" class=\"dataframe\">\n",
       "  <thead>\n",
       "    <tr style=\"text-align: right;\">\n",
       "      <th></th>\n",
       "      <th>track_id</th>\n",
       "      <th>acousticness</th>\n",
       "      <th>danceability</th>\n",
       "      <th>energy</th>\n",
       "      <th>instrumentalness</th>\n",
       "      <th>liveness</th>\n",
       "      <th>speechiness</th>\n",
       "      <th>tempo</th>\n",
       "      <th>valence</th>\n",
       "      <th>genre_top</th>\n",
       "    </tr>\n",
       "  </thead>\n",
       "  <tbody>\n",
       "    <tr>\n",
       "      <th>0</th>\n",
       "      <td>2</td>\n",
       "      <td>0.416675</td>\n",
       "      <td>0.675894</td>\n",
       "      <td>0.634476</td>\n",
       "      <td>0.010628</td>\n",
       "      <td>0.177647</td>\n",
       "      <td>0.159310</td>\n",
       "      <td>165.922</td>\n",
       "      <td>0.576661</td>\n",
       "      <td>Hip-Hop</td>\n",
       "    </tr>\n",
       "    <tr>\n",
       "      <th>1</th>\n",
       "      <td>3</td>\n",
       "      <td>0.374408</td>\n",
       "      <td>0.528643</td>\n",
       "      <td>0.817461</td>\n",
       "      <td>0.001851</td>\n",
       "      <td>0.105880</td>\n",
       "      <td>0.461818</td>\n",
       "      <td>126.957</td>\n",
       "      <td>0.269240</td>\n",
       "      <td>Hip-Hop</td>\n",
       "    </tr>\n",
       "    <tr>\n",
       "      <th>2</th>\n",
       "      <td>5</td>\n",
       "      <td>0.043567</td>\n",
       "      <td>0.745566</td>\n",
       "      <td>0.701470</td>\n",
       "      <td>0.000697</td>\n",
       "      <td>0.373143</td>\n",
       "      <td>0.124595</td>\n",
       "      <td>100.260</td>\n",
       "      <td>0.621661</td>\n",
       "      <td>Hip-Hop</td>\n",
       "    </tr>\n",
       "    <tr>\n",
       "      <th>3</th>\n",
       "      <td>134</td>\n",
       "      <td>0.452217</td>\n",
       "      <td>0.513238</td>\n",
       "      <td>0.560410</td>\n",
       "      <td>0.019443</td>\n",
       "      <td>0.096567</td>\n",
       "      <td>0.525519</td>\n",
       "      <td>114.290</td>\n",
       "      <td>0.894072</td>\n",
       "      <td>Hip-Hop</td>\n",
       "    </tr>\n",
       "    <tr>\n",
       "      <th>4</th>\n",
       "      <td>153</td>\n",
       "      <td>0.988306</td>\n",
       "      <td>0.255661</td>\n",
       "      <td>0.979774</td>\n",
       "      <td>0.973006</td>\n",
       "      <td>0.121342</td>\n",
       "      <td>0.051740</td>\n",
       "      <td>90.241</td>\n",
       "      <td>0.034018</td>\n",
       "      <td>Rock</td>\n",
       "    </tr>\n",
       "    <tr>\n",
       "      <th>...</th>\n",
       "      <td>...</td>\n",
       "      <td>...</td>\n",
       "      <td>...</td>\n",
       "      <td>...</td>\n",
       "      <td>...</td>\n",
       "      <td>...</td>\n",
       "      <td>...</td>\n",
       "      <td>...</td>\n",
       "      <td>...</td>\n",
       "      <td>...</td>\n",
       "    </tr>\n",
       "    <tr>\n",
       "      <th>95</th>\n",
       "      <td>524</td>\n",
       "      <td>0.993265</td>\n",
       "      <td>0.384601</td>\n",
       "      <td>0.544499</td>\n",
       "      <td>0.923347</td>\n",
       "      <td>0.097180</td>\n",
       "      <td>0.037387</td>\n",
       "      <td>166.460</td>\n",
       "      <td>0.823426</td>\n",
       "      <td>Rock</td>\n",
       "    </tr>\n",
       "    <tr>\n",
       "      <th>96</th>\n",
       "      <td>525</td>\n",
       "      <td>0.980884</td>\n",
       "      <td>0.313439</td>\n",
       "      <td>0.370345</td>\n",
       "      <td>0.920694</td>\n",
       "      <td>0.088021</td>\n",
       "      <td>0.046286</td>\n",
       "      <td>135.019</td>\n",
       "      <td>0.187453</td>\n",
       "      <td>Rock</td>\n",
       "    </tr>\n",
       "    <tr>\n",
       "      <th>97</th>\n",
       "      <td>526</td>\n",
       "      <td>0.874686</td>\n",
       "      <td>0.491505</td>\n",
       "      <td>0.301819</td>\n",
       "      <td>0.836016</td>\n",
       "      <td>0.110169</td>\n",
       "      <td>0.030764</td>\n",
       "      <td>156.583</td>\n",
       "      <td>0.678679</td>\n",
       "      <td>Rock</td>\n",
       "    </tr>\n",
       "    <tr>\n",
       "      <th>98</th>\n",
       "      <td>527</td>\n",
       "      <td>0.994910</td>\n",
       "      <td>0.318432</td>\n",
       "      <td>0.783259</td>\n",
       "      <td>0.869710</td>\n",
       "      <td>0.090503</td>\n",
       "      <td>0.057887</td>\n",
       "      <td>152.004</td>\n",
       "      <td>0.930636</td>\n",
       "      <td>Rock</td>\n",
       "    </tr>\n",
       "    <tr>\n",
       "      <th>99</th>\n",
       "      <td>528</td>\n",
       "      <td>0.989515</td>\n",
       "      <td>0.285662</td>\n",
       "      <td>0.345082</td>\n",
       "      <td>0.928602</td>\n",
       "      <td>0.104757</td>\n",
       "      <td>0.031283</td>\n",
       "      <td>93.621</td>\n",
       "      <td>0.537212</td>\n",
       "      <td>Rock</td>\n",
       "    </tr>\n",
       "  </tbody>\n",
       "</table>\n",
       "<p>100 rows × 10 columns</p>\n",
       "</div>"
      ],
      "text/plain": [
       "    track_id  acousticness  danceability    energy  instrumentalness  \\\n",
       "0          2      0.416675      0.675894  0.634476          0.010628   \n",
       "1          3      0.374408      0.528643  0.817461          0.001851   \n",
       "2          5      0.043567      0.745566  0.701470          0.000697   \n",
       "3        134      0.452217      0.513238  0.560410          0.019443   \n",
       "4        153      0.988306      0.255661  0.979774          0.973006   \n",
       "..       ...           ...           ...       ...               ...   \n",
       "95       524      0.993265      0.384601  0.544499          0.923347   \n",
       "96       525      0.980884      0.313439  0.370345          0.920694   \n",
       "97       526      0.874686      0.491505  0.301819          0.836016   \n",
       "98       527      0.994910      0.318432  0.783259          0.869710   \n",
       "99       528      0.989515      0.285662  0.345082          0.928602   \n",
       "\n",
       "    liveness  speechiness    tempo   valence genre_top  \n",
       "0   0.177647     0.159310  165.922  0.576661   Hip-Hop  \n",
       "1   0.105880     0.461818  126.957  0.269240   Hip-Hop  \n",
       "2   0.373143     0.124595  100.260  0.621661   Hip-Hop  \n",
       "3   0.096567     0.525519  114.290  0.894072   Hip-Hop  \n",
       "4   0.121342     0.051740   90.241  0.034018      Rock  \n",
       "..       ...          ...      ...       ...       ...  \n",
       "95  0.097180     0.037387  166.460  0.823426      Rock  \n",
       "96  0.088021     0.046286  135.019  0.187453      Rock  \n",
       "97  0.110169     0.030764  156.583  0.678679      Rock  \n",
       "98  0.090503     0.057887  152.004  0.930636      Rock  \n",
       "99  0.104757     0.031283   93.621  0.537212      Rock  \n",
       "\n",
       "[100 rows x 10 columns]"
      ]
     },
     "execution_count": 8,
     "metadata": {},
     "output_type": "execute_result"
    }
   ],
   "source": [
    "merger_track.head(100)"
   ]
  },
  {
   "cell_type": "code",
   "execution_count": 9,
   "id": "f29b3f59",
   "metadata": {
    "execution": {
     "iopub.execute_input": "2022-08-21T21:13:21.124654Z",
     "iopub.status.busy": "2022-08-21T21:13:21.123880Z",
     "iopub.status.idle": "2022-08-21T21:13:21.168143Z",
     "shell.execute_reply": "2022-08-21T21:13:21.167266Z"
    },
    "papermill": {
     "duration": 0.056657,
     "end_time": "2022-08-21T21:13:21.170411",
     "exception": false,
     "start_time": "2022-08-21T21:13:21.113754",
     "status": "completed"
    },
    "tags": []
   },
   "outputs": [
    {
     "data": {
      "text/html": [
       "<div>\n",
       "<style scoped>\n",
       "    .dataframe tbody tr th:only-of-type {\n",
       "        vertical-align: middle;\n",
       "    }\n",
       "\n",
       "    .dataframe tbody tr th {\n",
       "        vertical-align: top;\n",
       "    }\n",
       "\n",
       "    .dataframe thead th {\n",
       "        text-align: right;\n",
       "    }\n",
       "</style>\n",
       "<table border=\"1\" class=\"dataframe\">\n",
       "  <thead>\n",
       "    <tr style=\"text-align: right;\">\n",
       "      <th></th>\n",
       "      <th>track_id</th>\n",
       "      <th>acousticness</th>\n",
       "      <th>danceability</th>\n",
       "      <th>energy</th>\n",
       "      <th>instrumentalness</th>\n",
       "      <th>liveness</th>\n",
       "      <th>speechiness</th>\n",
       "      <th>tempo</th>\n",
       "      <th>valence</th>\n",
       "    </tr>\n",
       "  </thead>\n",
       "  <tbody>\n",
       "    <tr>\n",
       "      <th>count</th>\n",
       "      <td>4802.000000</td>\n",
       "      <td>4.802000e+03</td>\n",
       "      <td>4802.000000</td>\n",
       "      <td>4802.000000</td>\n",
       "      <td>4802.000000</td>\n",
       "      <td>4802.000000</td>\n",
       "      <td>4802.000000</td>\n",
       "      <td>4802.000000</td>\n",
       "      <td>4802.000000</td>\n",
       "    </tr>\n",
       "    <tr>\n",
       "      <th>mean</th>\n",
       "      <td>30164.871720</td>\n",
       "      <td>4.870600e-01</td>\n",
       "      <td>0.436556</td>\n",
       "      <td>0.625126</td>\n",
       "      <td>0.604096</td>\n",
       "      <td>0.187997</td>\n",
       "      <td>0.104877</td>\n",
       "      <td>126.687944</td>\n",
       "      <td>0.453413</td>\n",
       "    </tr>\n",
       "    <tr>\n",
       "      <th>std</th>\n",
       "      <td>28592.013796</td>\n",
       "      <td>3.681396e-01</td>\n",
       "      <td>0.183502</td>\n",
       "      <td>0.244051</td>\n",
       "      <td>0.376487</td>\n",
       "      <td>0.150562</td>\n",
       "      <td>0.145934</td>\n",
       "      <td>34.002473</td>\n",
       "      <td>0.266632</td>\n",
       "    </tr>\n",
       "    <tr>\n",
       "      <th>min</th>\n",
       "      <td>2.000000</td>\n",
       "      <td>9.491000e-07</td>\n",
       "      <td>0.051307</td>\n",
       "      <td>0.000279</td>\n",
       "      <td>0.000000</td>\n",
       "      <td>0.025297</td>\n",
       "      <td>0.023234</td>\n",
       "      <td>29.093000</td>\n",
       "      <td>0.014392</td>\n",
       "    </tr>\n",
       "    <tr>\n",
       "      <th>25%</th>\n",
       "      <td>7494.250000</td>\n",
       "      <td>8.351236e-02</td>\n",
       "      <td>0.296047</td>\n",
       "      <td>0.450757</td>\n",
       "      <td>0.164972</td>\n",
       "      <td>0.104052</td>\n",
       "      <td>0.036897</td>\n",
       "      <td>98.000750</td>\n",
       "      <td>0.224617</td>\n",
       "    </tr>\n",
       "    <tr>\n",
       "      <th>50%</th>\n",
       "      <td>20723.500000</td>\n",
       "      <td>5.156888e-01</td>\n",
       "      <td>0.419447</td>\n",
       "      <td>0.648374</td>\n",
       "      <td>0.808752</td>\n",
       "      <td>0.123080</td>\n",
       "      <td>0.049594</td>\n",
       "      <td>124.625500</td>\n",
       "      <td>0.446240</td>\n",
       "    </tr>\n",
       "    <tr>\n",
       "      <th>75%</th>\n",
       "      <td>44240.750000</td>\n",
       "      <td>8.555765e-01</td>\n",
       "      <td>0.565339</td>\n",
       "      <td>0.837016</td>\n",
       "      <td>0.915472</td>\n",
       "      <td>0.215151</td>\n",
       "      <td>0.088290</td>\n",
       "      <td>151.450000</td>\n",
       "      <td>0.666914</td>\n",
       "    </tr>\n",
       "    <tr>\n",
       "      <th>max</th>\n",
       "      <td>124722.000000</td>\n",
       "      <td>9.957965e-01</td>\n",
       "      <td>0.961871</td>\n",
       "      <td>0.999768</td>\n",
       "      <td>0.993134</td>\n",
       "      <td>0.971392</td>\n",
       "      <td>0.966177</td>\n",
       "      <td>250.059000</td>\n",
       "      <td>0.983649</td>\n",
       "    </tr>\n",
       "  </tbody>\n",
       "</table>\n",
       "</div>"
      ],
      "text/plain": [
       "            track_id  acousticness  danceability       energy  \\\n",
       "count    4802.000000  4.802000e+03   4802.000000  4802.000000   \n",
       "mean    30164.871720  4.870600e-01      0.436556     0.625126   \n",
       "std     28592.013796  3.681396e-01      0.183502     0.244051   \n",
       "min         2.000000  9.491000e-07      0.051307     0.000279   \n",
       "25%      7494.250000  8.351236e-02      0.296047     0.450757   \n",
       "50%     20723.500000  5.156888e-01      0.419447     0.648374   \n",
       "75%     44240.750000  8.555765e-01      0.565339     0.837016   \n",
       "max    124722.000000  9.957965e-01      0.961871     0.999768   \n",
       "\n",
       "       instrumentalness     liveness  speechiness        tempo      valence  \n",
       "count       4802.000000  4802.000000  4802.000000  4802.000000  4802.000000  \n",
       "mean           0.604096     0.187997     0.104877   126.687944     0.453413  \n",
       "std            0.376487     0.150562     0.145934    34.002473     0.266632  \n",
       "min            0.000000     0.025297     0.023234    29.093000     0.014392  \n",
       "25%            0.164972     0.104052     0.036897    98.000750     0.224617  \n",
       "50%            0.808752     0.123080     0.049594   124.625500     0.446240  \n",
       "75%            0.915472     0.215151     0.088290   151.450000     0.666914  \n",
       "max            0.993134     0.971392     0.966177   250.059000     0.983649  "
      ]
     },
     "execution_count": 9,
     "metadata": {},
     "output_type": "execute_result"
    }
   ],
   "source": [
    "merger_track.describe()"
   ]
  },
  {
   "cell_type": "markdown",
   "id": "07e4665d",
   "metadata": {
    "papermill": {
     "duration": 0.008626,
     "end_time": "2022-08-21T21:13:21.188570",
     "exception": false,
     "start_time": "2022-08-21T21:13:21.179944",
     "status": "completed"
    },
    "tags": []
   },
   "source": [
    "# now creating correlation metrics"
   ]
  },
  {
   "cell_type": "code",
   "execution_count": 10,
   "id": "3382d19b",
   "metadata": {
    "execution": {
     "iopub.execute_input": "2022-08-21T21:13:21.208406Z",
     "iopub.status.busy": "2022-08-21T21:13:21.207683Z",
     "iopub.status.idle": "2022-08-21T21:13:21.299647Z",
     "shell.execute_reply": "2022-08-21T21:13:21.298303Z"
    },
    "papermill": {
     "duration": 0.104843,
     "end_time": "2022-08-21T21:13:21.302338",
     "exception": false,
     "start_time": "2022-08-21T21:13:21.197495",
     "status": "completed"
    },
    "tags": []
   },
   "outputs": [
    {
     "data": {
      "text/html": [
       "<style type=\"text/css\">\n",
       "#T_03672_row0_col0, #T_03672_row1_col1, #T_03672_row2_col2, #T_03672_row3_col3, #T_03672_row4_col4, #T_03672_row5_col5, #T_03672_row6_col6, #T_03672_row7_col7, #T_03672_row8_col8 {\n",
       "  background-color: #023858;\n",
       "  color: #f1f1f1;\n",
       "}\n",
       "#T_03672_row0_col1, #T_03672_row1_col0, #T_03672_row1_col3, #T_03672_row2_col5, #T_03672_row2_col7, #T_03672_row4_col2, #T_03672_row4_col6, #T_03672_row4_col8, #T_03672_row6_col4 {\n",
       "  background-color: #fff7fb;\n",
       "  color: #000000;\n",
       "}\n",
       "#T_03672_row0_col2 {\n",
       "  background-color: #d2d2e7;\n",
       "  color: #000000;\n",
       "}\n",
       "#T_03672_row0_col3 {\n",
       "  background-color: #b5c4df;\n",
       "  color: #000000;\n",
       "}\n",
       "#T_03672_row0_col4 {\n",
       "  background-color: #f5eef6;\n",
       "  color: #000000;\n",
       "}\n",
       "#T_03672_row0_col5 {\n",
       "  background-color: #e9e5f1;\n",
       "  color: #000000;\n",
       "}\n",
       "#T_03672_row0_col6, #T_03672_row8_col3 {\n",
       "  background-color: #d1d2e6;\n",
       "  color: #000000;\n",
       "}\n",
       "#T_03672_row0_col7, #T_03672_row1_col7 {\n",
       "  background-color: #e1dfed;\n",
       "  color: #000000;\n",
       "}\n",
       "#T_03672_row0_col8, #T_03672_row3_col6 {\n",
       "  background-color: #dedcec;\n",
       "  color: #000000;\n",
       "}\n",
       "#T_03672_row1_col2 {\n",
       "  background-color: #e0dded;\n",
       "  color: #000000;\n",
       "}\n",
       "#T_03672_row1_col4, #T_03672_row4_col1 {\n",
       "  background-color: #97b7d7;\n",
       "  color: #000000;\n",
       "}\n",
       "#T_03672_row1_col5, #T_03672_row2_col4 {\n",
       "  background-color: #f3edf5;\n",
       "  color: #000000;\n",
       "}\n",
       "#T_03672_row1_col6, #T_03672_row6_col1 {\n",
       "  background-color: #b8c6e0;\n",
       "  color: #000000;\n",
       "}\n",
       "#T_03672_row1_col8 {\n",
       "  background-color: #e2dfee;\n",
       "  color: #000000;\n",
       "}\n",
       "#T_03672_row2_col0, #T_03672_row5_col0, #T_03672_row5_col3 {\n",
       "  background-color: #bdc8e1;\n",
       "  color: #000000;\n",
       "}\n",
       "#T_03672_row2_col1, #T_03672_row6_col0, #T_03672_row7_col0, #T_03672_row7_col1 {\n",
       "  background-color: #d0d1e6;\n",
       "  color: #000000;\n",
       "}\n",
       "#T_03672_row2_col3 {\n",
       "  background-color: #fbf3f9;\n",
       "  color: #000000;\n",
       "}\n",
       "#T_03672_row2_col6 {\n",
       "  background-color: #80aed2;\n",
       "  color: #f1f1f1;\n",
       "}\n",
       "#T_03672_row2_col8 {\n",
       "  background-color: #529bc7;\n",
       "  color: #f1f1f1;\n",
       "}\n",
       "#T_03672_row3_col0, #T_03672_row7_col3 {\n",
       "  background-color: #a7bddb;\n",
       "  color: #000000;\n",
       "}\n",
       "#T_03672_row3_col1 {\n",
       "  background-color: #f5eff6;\n",
       "  color: #000000;\n",
       "}\n",
       "#T_03672_row3_col2, #T_03672_row7_col2 {\n",
       "  background-color: #fef6fa;\n",
       "  color: #000000;\n",
       "}\n",
       "#T_03672_row3_col4 {\n",
       "  background-color: #c4cbe3;\n",
       "  color: #000000;\n",
       "}\n",
       "#T_03672_row3_col5, #T_03672_row5_col7 {\n",
       "  background-color: #dcdaeb;\n",
       "  color: #000000;\n",
       "}\n",
       "#T_03672_row3_col7 {\n",
       "  background-color: #adc1dd;\n",
       "  color: #000000;\n",
       "}\n",
       "#T_03672_row3_col8, #T_03672_row4_col7 {\n",
       "  background-color: #d9d8ea;\n",
       "  color: #000000;\n",
       "}\n",
       "#T_03672_row4_col0 {\n",
       "  background-color: #f4eef6;\n",
       "  color: #000000;\n",
       "}\n",
       "#T_03672_row4_col3 {\n",
       "  background-color: #d2d3e7;\n",
       "  color: #000000;\n",
       "}\n",
       "#T_03672_row4_col5 {\n",
       "  background-color: #fdf5fa;\n",
       "  color: #000000;\n",
       "}\n",
       "#T_03672_row5_col1 {\n",
       "  background-color: #ced0e6;\n",
       "  color: #000000;\n",
       "}\n",
       "#T_03672_row5_col2 {\n",
       "  background-color: #ede8f3;\n",
       "  color: #000000;\n",
       "}\n",
       "#T_03672_row5_col4, #T_03672_row6_col7 {\n",
       "  background-color: #dbdaeb;\n",
       "  color: #000000;\n",
       "}\n",
       "#T_03672_row5_col6 {\n",
       "  background-color: #c0c9e2;\n",
       "  color: #000000;\n",
       "}\n",
       "#T_03672_row5_col8 {\n",
       "  background-color: #e8e4f0;\n",
       "  color: #000000;\n",
       "}\n",
       "#T_03672_row6_col2 {\n",
       "  background-color: #93b5d6;\n",
       "  color: #000000;\n",
       "}\n",
       "#T_03672_row6_col3, #T_03672_row6_col5 {\n",
       "  background-color: #eae6f1;\n",
       "  color: #000000;\n",
       "}\n",
       "#T_03672_row6_col8 {\n",
       "  background-color: #bfc9e1;\n",
       "  color: #000000;\n",
       "}\n",
       "#T_03672_row7_col4 {\n",
       "  background-color: #c5cce3;\n",
       "  color: #000000;\n",
       "}\n",
       "#T_03672_row7_col5 {\n",
       "  background-color: #f0eaf4;\n",
       "  color: #000000;\n",
       "}\n",
       "#T_03672_row7_col6 {\n",
       "  background-color: #c8cde4;\n",
       "  color: #000000;\n",
       "}\n",
       "#T_03672_row7_col8 {\n",
       "  background-color: #d6d6e9;\n",
       "  color: #000000;\n",
       "}\n",
       "#T_03672_row8_col0 {\n",
       "  background-color: #c6cce3;\n",
       "  color: #000000;\n",
       "}\n",
       "#T_03672_row8_col1 {\n",
       "  background-color: #cdd0e5;\n",
       "  color: #000000;\n",
       "}\n",
       "#T_03672_row8_col2 {\n",
       "  background-color: #4c99c5;\n",
       "  color: #f1f1f1;\n",
       "}\n",
       "#T_03672_row8_col4 {\n",
       "  background-color: #efe9f3;\n",
       "  color: #000000;\n",
       "}\n",
       "#T_03672_row8_col5 {\n",
       "  background-color: #f7f0f7;\n",
       "  color: #000000;\n",
       "}\n",
       "#T_03672_row8_col6 {\n",
       "  background-color: #a5bddb;\n",
       "  color: #000000;\n",
       "}\n",
       "#T_03672_row8_col7 {\n",
       "  background-color: #d3d4e7;\n",
       "  color: #000000;\n",
       "}\n",
       "</style>\n",
       "<table id=\"T_03672_\">\n",
       "  <thead>\n",
       "    <tr>\n",
       "      <th class=\"blank level0\" >&nbsp;</th>\n",
       "      <th class=\"col_heading level0 col0\" >track_id</th>\n",
       "      <th class=\"col_heading level0 col1\" >acousticness</th>\n",
       "      <th class=\"col_heading level0 col2\" >danceability</th>\n",
       "      <th class=\"col_heading level0 col3\" >energy</th>\n",
       "      <th class=\"col_heading level0 col4\" >instrumentalness</th>\n",
       "      <th class=\"col_heading level0 col5\" >liveness</th>\n",
       "      <th class=\"col_heading level0 col6\" >speechiness</th>\n",
       "      <th class=\"col_heading level0 col7\" >tempo</th>\n",
       "      <th class=\"col_heading level0 col8\" >valence</th>\n",
       "    </tr>\n",
       "  </thead>\n",
       "  <tbody>\n",
       "    <tr>\n",
       "      <th id=\"T_03672_level0_row0\" class=\"row_heading level0 row0\" >track_id</th>\n",
       "      <td id=\"T_03672_row0_col0\" class=\"data row0 col0\" >1.000000</td>\n",
       "      <td id=\"T_03672_row0_col1\" class=\"data row0 col1\" >-0.372282</td>\n",
       "      <td id=\"T_03672_row0_col2\" class=\"data row0 col2\" >0.049454</td>\n",
       "      <td id=\"T_03672_row0_col3\" class=\"data row0 col3\" >0.140703</td>\n",
       "      <td id=\"T_03672_row0_col4\" class=\"data row0 col4\" >-0.275623</td>\n",
       "      <td id=\"T_03672_row0_col5\" class=\"data row0 col5\" >0.048231</td>\n",
       "      <td id=\"T_03672_row0_col6\" class=\"data row0 col6\" >-0.026995</td>\n",
       "      <td id=\"T_03672_row0_col7\" class=\"data row0 col7\" >-0.025392</td>\n",
       "      <td id=\"T_03672_row0_col8\" class=\"data row0 col8\" >0.010070</td>\n",
       "    </tr>\n",
       "    <tr>\n",
       "      <th id=\"T_03672_level0_row1\" class=\"row_heading level0 row1\" >acousticness</th>\n",
       "      <td id=\"T_03672_row1_col0\" class=\"data row1 col0\" >-0.372282</td>\n",
       "      <td id=\"T_03672_row1_col1\" class=\"data row1 col1\" >1.000000</td>\n",
       "      <td id=\"T_03672_row1_col2\" class=\"data row1 col2\" >-0.028954</td>\n",
       "      <td id=\"T_03672_row1_col3\" class=\"data row1 col3\" >-0.281619</td>\n",
       "      <td id=\"T_03672_row1_col4\" class=\"data row1 col4\" >0.194780</td>\n",
       "      <td id=\"T_03672_row1_col5\" class=\"data row1 col5\" >-0.019991</td>\n",
       "      <td id=\"T_03672_row1_col6\" class=\"data row1 col6\" >0.072204</td>\n",
       "      <td id=\"T_03672_row1_col7\" class=\"data row1 col7\" >-0.026310</td>\n",
       "      <td id=\"T_03672_row1_col8\" class=\"data row1 col8\" >-0.013841</td>\n",
       "    </tr>\n",
       "    <tr>\n",
       "      <th id=\"T_03672_level0_row2\" class=\"row_heading level0 row2\" >danceability</th>\n",
       "      <td id=\"T_03672_row2_col0\" class=\"data row2 col0\" >0.049454</td>\n",
       "      <td id=\"T_03672_row2_col1\" class=\"data row2 col1\" >-0.028954</td>\n",
       "      <td id=\"T_03672_row2_col2\" class=\"data row2 col2\" >1.000000</td>\n",
       "      <td id=\"T_03672_row2_col3\" class=\"data row2 col3\" >-0.242032</td>\n",
       "      <td id=\"T_03672_row2_col4\" class=\"data row2 col4\" >-0.255217</td>\n",
       "      <td id=\"T_03672_row2_col5\" class=\"data row2 col5\" >-0.106584</td>\n",
       "      <td id=\"T_03672_row2_col6\" class=\"data row2 col6\" >0.276206</td>\n",
       "      <td id=\"T_03672_row2_col7\" class=\"data row2 col7\" >-0.242089</td>\n",
       "      <td id=\"T_03672_row2_col8\" class=\"data row2 col8\" >0.473165</td>\n",
       "    </tr>\n",
       "    <tr>\n",
       "      <th id=\"T_03672_level0_row3\" class=\"row_heading level0 row3\" >energy</th>\n",
       "      <td id=\"T_03672_row3_col0\" class=\"data row3 col0\" >0.140703</td>\n",
       "      <td id=\"T_03672_row3_col1\" class=\"data row3 col1\" >-0.281619</td>\n",
       "      <td id=\"T_03672_row3_col2\" class=\"data row3 col2\" >-0.242032</td>\n",
       "      <td id=\"T_03672_row3_col3\" class=\"data row3 col3\" >1.000000</td>\n",
       "      <td id=\"T_03672_row3_col4\" class=\"data row3 col4\" >0.028238</td>\n",
       "      <td id=\"T_03672_row3_col5\" class=\"data row3 col5\" >0.113331</td>\n",
       "      <td id=\"T_03672_row3_col6\" class=\"data row3 col6\" >-0.109983</td>\n",
       "      <td id=\"T_03672_row3_col7\" class=\"data row3 col7\" >0.195227</td>\n",
       "      <td id=\"T_03672_row3_col8\" class=\"data row3 col8\" >0.038603</td>\n",
       "    </tr>\n",
       "    <tr>\n",
       "      <th id=\"T_03672_level0_row4\" class=\"row_heading level0 row4\" >instrumentalness</th>\n",
       "      <td id=\"T_03672_row4_col0\" class=\"data row4 col0\" >-0.275623</td>\n",
       "      <td id=\"T_03672_row4_col1\" class=\"data row4 col1\" >0.194780</td>\n",
       "      <td id=\"T_03672_row4_col2\" class=\"data row4 col2\" >-0.255217</td>\n",
       "      <td id=\"T_03672_row4_col3\" class=\"data row4 col3\" >0.028238</td>\n",
       "      <td id=\"T_03672_row4_col4\" class=\"data row4 col4\" >1.000000</td>\n",
       "      <td id=\"T_03672_row4_col5\" class=\"data row4 col5\" >-0.091022</td>\n",
       "      <td id=\"T_03672_row4_col6\" class=\"data row4 col6\" >-0.366762</td>\n",
       "      <td id=\"T_03672_row4_col7\" class=\"data row4 col7\" >0.022215</td>\n",
       "      <td id=\"T_03672_row4_col8\" class=\"data row4 col8\" >-0.219967</td>\n",
       "    </tr>\n",
       "    <tr>\n",
       "      <th id=\"T_03672_level0_row5\" class=\"row_heading level0 row5\" >liveness</th>\n",
       "      <td id=\"T_03672_row5_col0\" class=\"data row5 col0\" >0.048231</td>\n",
       "      <td id=\"T_03672_row5_col1\" class=\"data row5 col1\" >-0.019991</td>\n",
       "      <td id=\"T_03672_row5_col2\" class=\"data row5 col2\" >-0.106584</td>\n",
       "      <td id=\"T_03672_row5_col3\" class=\"data row5 col3\" >0.113331</td>\n",
       "      <td id=\"T_03672_row5_col4\" class=\"data row5 col4\" >-0.091022</td>\n",
       "      <td id=\"T_03672_row5_col5\" class=\"data row5 col5\" >1.000000</td>\n",
       "      <td id=\"T_03672_row5_col6\" class=\"data row5 col6\" >0.041173</td>\n",
       "      <td id=\"T_03672_row5_col7\" class=\"data row5 col7\" >0.002732</td>\n",
       "      <td id=\"T_03672_row5_col8\" class=\"data row5 col8\" >-0.045093</td>\n",
       "    </tr>\n",
       "    <tr>\n",
       "      <th id=\"T_03672_level0_row6\" class=\"row_heading level0 row6\" >speechiness</th>\n",
       "      <td id=\"T_03672_row6_col0\" class=\"data row6 col0\" >-0.026995</td>\n",
       "      <td id=\"T_03672_row6_col1\" class=\"data row6 col1\" >0.072204</td>\n",
       "      <td id=\"T_03672_row6_col2\" class=\"data row6 col2\" >0.276206</td>\n",
       "      <td id=\"T_03672_row6_col3\" class=\"data row6 col3\" >-0.109983</td>\n",
       "      <td id=\"T_03672_row6_col4\" class=\"data row6 col4\" >-0.366762</td>\n",
       "      <td id=\"T_03672_row6_col5\" class=\"data row6 col5\" >0.041173</td>\n",
       "      <td id=\"T_03672_row6_col6\" class=\"data row6 col6\" >1.000000</td>\n",
       "      <td id=\"T_03672_row6_col7\" class=\"data row6 col7\" >0.008241</td>\n",
       "      <td id=\"T_03672_row6_col8\" class=\"data row6 col8\" >0.149894</td>\n",
       "    </tr>\n",
       "    <tr>\n",
       "      <th id=\"T_03672_level0_row7\" class=\"row_heading level0 row7\" >tempo</th>\n",
       "      <td id=\"T_03672_row7_col0\" class=\"data row7 col0\" >-0.025392</td>\n",
       "      <td id=\"T_03672_row7_col1\" class=\"data row7 col1\" >-0.026310</td>\n",
       "      <td id=\"T_03672_row7_col2\" class=\"data row7 col2\" >-0.242089</td>\n",
       "      <td id=\"T_03672_row7_col3\" class=\"data row7 col3\" >0.195227</td>\n",
       "      <td id=\"T_03672_row7_col4\" class=\"data row7 col4\" >0.022215</td>\n",
       "      <td id=\"T_03672_row7_col5\" class=\"data row7 col5\" >0.002732</td>\n",
       "      <td id=\"T_03672_row7_col6\" class=\"data row7 col6\" >0.008241</td>\n",
       "      <td id=\"T_03672_row7_col7\" class=\"data row7 col7\" >1.000000</td>\n",
       "      <td id=\"T_03672_row7_col8\" class=\"data row7 col8\" >0.052221</td>\n",
       "    </tr>\n",
       "    <tr>\n",
       "      <th id=\"T_03672_level0_row8\" class=\"row_heading level0 row8\" >valence</th>\n",
       "      <td id=\"T_03672_row8_col0\" class=\"data row8 col0\" >0.010070</td>\n",
       "      <td id=\"T_03672_row8_col1\" class=\"data row8 col1\" >-0.013841</td>\n",
       "      <td id=\"T_03672_row8_col2\" class=\"data row8 col2\" >0.473165</td>\n",
       "      <td id=\"T_03672_row8_col3\" class=\"data row8 col3\" >0.038603</td>\n",
       "      <td id=\"T_03672_row8_col4\" class=\"data row8 col4\" >-0.219967</td>\n",
       "      <td id=\"T_03672_row8_col5\" class=\"data row8 col5\" >-0.045093</td>\n",
       "      <td id=\"T_03672_row8_col6\" class=\"data row8 col6\" >0.149894</td>\n",
       "      <td id=\"T_03672_row8_col7\" class=\"data row8 col7\" >0.052221</td>\n",
       "      <td id=\"T_03672_row8_col8\" class=\"data row8 col8\" >1.000000</td>\n",
       "    </tr>\n",
       "  </tbody>\n",
       "</table>\n"
      ],
      "text/plain": [
       "<pandas.io.formats.style.Styler at 0x7f03828b4c50>"
      ]
     },
     "execution_count": 10,
     "metadata": {},
     "output_type": "execute_result"
    }
   ],
   "source": [
    "corr_metrics = merger_track.corr()\n",
    "corr_metrics.style.background_gradient()"
   ]
  },
  {
   "cell_type": "markdown",
   "id": "1d960dde",
   "metadata": {
    "papermill": {
     "duration": 0.009236,
     "end_time": "2022-08-21T21:13:21.321398",
     "exception": false,
     "start_time": "2022-08-21T21:13:21.312162",
     "status": "completed"
    },
    "tags": []
   },
   "source": [
    "# standardization"
   ]
  },
  {
   "cell_type": "code",
   "execution_count": 11,
   "id": "745039c4",
   "metadata": {
    "execution": {
     "iopub.execute_input": "2022-08-21T21:13:21.342358Z",
     "iopub.status.busy": "2022-08-21T21:13:21.341582Z",
     "iopub.status.idle": "2022-08-21T21:13:21.352153Z",
     "shell.execute_reply": "2022-08-21T21:13:21.351260Z"
    },
    "papermill": {
     "duration": 0.024185,
     "end_time": "2022-08-21T21:13:21.354864",
     "exception": false,
     "start_time": "2022-08-21T21:13:21.330679",
     "status": "completed"
    },
    "tags": []
   },
   "outputs": [],
   "source": [
    "feature = merger_track.drop(['genre_top','track_id'],axis=1)\n",
    "\n",
    "labels = merger_track['genre_top']\n",
    "\n",
    "#scaling feature\n",
    "\n",
    "scaler = StandardScaler()\n",
    "scaled_features = scaler.fit_transform(feature)"
   ]
  },
  {
   "cell_type": "markdown",
   "id": "449c3f1d",
   "metadata": {
    "papermill": {
     "duration": 0.009102,
     "end_time": "2022-08-21T21:13:21.373381",
     "exception": false,
     "start_time": "2022-08-21T21:13:21.364279",
     "status": "completed"
    },
    "tags": []
   },
   "source": [
    "# PCA on scaled data"
   ]
  },
  {
   "cell_type": "code",
   "execution_count": 12,
   "id": "63139090",
   "metadata": {
    "execution": {
     "iopub.execute_input": "2022-08-21T21:13:21.394288Z",
     "iopub.status.busy": "2022-08-21T21:13:21.393583Z",
     "iopub.status.idle": "2022-08-21T21:13:21.691794Z",
     "shell.execute_reply": "2022-08-21T21:13:21.690796Z"
    },
    "papermill": {
     "duration": 0.311455,
     "end_time": "2022-08-21T21:13:21.694169",
     "exception": false,
     "start_time": "2022-08-21T21:13:21.382714",
     "status": "completed"
    },
    "tags": []
   },
   "outputs": [
    {
     "data": {
      "text/plain": [
       "Text(0.5, 0, 'PCA')"
      ]
     },
     "execution_count": 12,
     "metadata": {},
     "output_type": "execute_result"
    },
    {
     "data": {
      "image/png": "[encoded data removed]",
      "text/plain": [
       "<Figure size 432x288 with 1 Axes>"
      ]
     },
     "metadata": {
      "needs_background": "light"
     },
     "output_type": "display_data"
    }
   ],
   "source": [
    "pca = PCA()\n",
    "pca.fit(scaled_features)\n",
    "\n",
    "our_exp_variance = pca.explained_variance_ratio_ \n",
    "\n",
    "\n",
    "fig, ax = plt.subplots()\n",
    "ax.bar(range(pca.n_components_),our_exp_variance)\n",
    "ax.set_xlabel('PCA')"
   ]
  },
  {
   "cell_type": "code",
   "execution_count": 13,
   "id": "609be79d",
   "metadata": {
    "execution": {
     "iopub.execute_input": "2022-08-21T21:13:21.715527Z",
     "iopub.status.busy": "2022-08-21T21:13:21.715058Z",
     "iopub.status.idle": "2022-08-21T21:13:21.983527Z",
     "shell.execute_reply": "2022-08-21T21:13:21.982388Z"
    },
    "papermill": {
     "duration": 0.282179,
     "end_time": "2022-08-21T21:13:21.986032",
     "exception": false,
     "start_time": "2022-08-21T21:13:21.703853",
     "status": "completed"
    },
    "tags": []
   },
   "outputs": [
    {
     "data": {
      "image/png": "[encoded data removed]",
      "text/plain": [
       "<Figure size 432x288 with 1 Axes>"
      ]
     },
     "metadata": {
      "needs_background": "light"
     },
     "output_type": "display_data"
    }
   ],
   "source": [
    "cum_variance = np.cumsum(our_exp_variance)\n",
    "\n",
    "fig, ax = plt.subplots()\n",
    "ax.plot(cum_variance)\n",
    "ax.axhline(y=0.9, linestyle=(0, (3, 1, 1, 1)))\n",
    "\n",
    "n_components = ((np.where(cum_variance > 0.9))[0][0])\n",
    "\n",
    "pca = PCA(n_components, random_state=10)\n",
    "pca.fit(scaled_features)\n",
    "pca_projection = pca.transform(scaled_features)"
   ]
  },
  {
   "cell_type": "markdown",
   "id": "0040287e",
   "metadata": {
    "papermill": {
     "duration": 0.009715,
     "end_time": "2022-08-21T21:13:22.005983",
     "exception": false,
     "start_time": "2022-08-21T21:13:21.996268",
     "status": "completed"
    },
    "tags": []
   },
   "source": [
    "# now train decision tree to classify genre"
   ]
  },
  {
   "cell_type": "code",
   "execution_count": 14,
   "id": "6c38f21a",
   "metadata": {
    "execution": {
     "iopub.execute_input": "2022-08-21T21:13:22.028548Z",
     "iopub.status.busy": "2022-08-21T21:13:22.027672Z",
     "iopub.status.idle": "2022-08-21T21:13:22.076155Z",
     "shell.execute_reply": "2022-08-21T21:13:22.074888Z"
    },
    "papermill": {
     "duration": 0.062737,
     "end_time": "2022-08-21T21:13:22.078863",
     "exception": false,
     "start_time": "2022-08-21T21:13:22.016126",
     "status": "completed"
    },
    "tags": []
   },
   "outputs": [],
   "source": [
    "train_features, test_features, train_labels, test_labels = train_test_split(pca_projection, labels,random_state=10)\n",
    "\n",
    "d_tree = DecisionTreeClassifier(random_state=10)\n",
    "d_tree.fit(train_features,train_labels)\n",
    "\n",
    "predict_labels_tree = d_tree.predict(test_features)"
   ]
  },
  {
   "cell_type": "markdown",
   "id": "79bcb227",
   "metadata": {
    "papermill": {
     "duration": 0.009718,
     "end_time": "2022-08-21T21:13:22.098748",
     "exception": false,
     "start_time": "2022-08-21T21:13:22.089030",
     "status": "completed"
    },
    "tags": []
   },
   "source": [
    "# comparing which model is best for our data decision tree to a logistic regression"
   ]
  },
  {
   "cell_type": "code",
   "execution_count": 15,
   "id": "532b6af5",
   "metadata": {
    "execution": {
     "iopub.execute_input": "2022-08-21T21:13:22.120261Z",
     "iopub.status.busy": "2022-08-21T21:13:22.119831Z",
     "iopub.status.idle": "2022-08-21T21:13:22.300080Z",
     "shell.execute_reply": "2022-08-21T21:13:22.298872Z"
    },
    "papermill": {
     "duration": 0.195146,
     "end_time": "2022-08-21T21:13:22.303857",
     "exception": false,
     "start_time": "2022-08-21T21:13:22.108711",
     "status": "completed"
    },
    "tags": []
   },
   "outputs": [
    {
     "name": "stdout",
     "output_type": "stream",
     "text": [
      "Decision Tree: \n",
      "               precision    recall  f1-score   support\n",
      "\n",
      "     Hip-Hop       0.60      0.60      0.60       235\n",
      "        Rock       0.90      0.90      0.90       966\n",
      "\n",
      "    accuracy                           0.84      1201\n",
      "   macro avg       0.75      0.75      0.75      1201\n",
      "weighted avg       0.84      0.84      0.84      1201\n",
      "\n",
      "Logistic Regression: \n",
      "               precision    recall  f1-score   support\n",
      "\n",
      "     Hip-Hop       0.77      0.54      0.64       235\n",
      "        Rock       0.90      0.96      0.93       966\n",
      "\n",
      "    accuracy                           0.88      1201\n",
      "   macro avg       0.83      0.75      0.78      1201\n",
      "weighted avg       0.87      0.88      0.87      1201\n",
      "\n"
     ]
    }
   ],
   "source": [
    "logreg = LogisticRegression(random_state=10)\n",
    "logreg.fit(train_features,train_labels)\n",
    "predict_labels_logit = logreg.predict(test_features)\n",
    "\n",
    "class_report_tree = classification_report(test_labels,predict_labels_tree)\n",
    "class_report_log = classification_report(test_labels,predict_labels_logit)\n",
    "\n",
    "print(\"Decision Tree: \\n\", class_report_tree)\n",
    "print(\"Logistic Regression: \\n\", class_report_log)"
   ]
  },
  {
   "cell_type": "markdown",
   "id": "61cc1a13",
   "metadata": {
    "papermill": {
     "duration": 0.00983,
     "end_time": "2022-08-21T21:13:22.324066",
     "exception": false,
     "start_time": "2022-08-21T21:13:22.314236",
     "status": "completed"
    },
    "tags": []
   },
   "source": [
    "# balance our model for better performance"
   ]
  },
  {
   "cell_type": "code",
   "execution_count": 16,
   "id": "cc94a338",
   "metadata": {
    "execution": {
     "iopub.execute_input": "2022-08-21T21:13:22.346194Z",
     "iopub.status.busy": "2022-08-21T21:13:22.345451Z",
     "iopub.status.idle": "2022-08-21T21:13:22.378347Z",
     "shell.execute_reply": "2022-08-21T21:13:22.376774Z"
    },
    "papermill": {
     "duration": 0.051555,
     "end_time": "2022-08-21T21:13:22.385586",
     "exception": false,
     "start_time": "2022-08-21T21:13:22.334031",
     "status": "completed"
    },
    "tags": []
   },
   "outputs": [
    {
     "name": "stdout",
     "output_type": "stream",
     "text": [
      "     track_id  acousticness  danceability    energy  instrumentalness  \\\n",
      "0           2      0.416675      0.675894  0.634476          0.010628   \n",
      "1           3      0.374408      0.528643  0.817461          0.001851   \n",
      "2           5      0.043567      0.745566  0.701470          0.000697   \n",
      "3         134      0.452217      0.513238  0.560410          0.019443   \n",
      "118       583      0.748986      0.765886  0.513173          0.957209   \n",
      "\n",
      "     liveness  speechiness    tempo   valence genre_top  \n",
      "0    0.177647     0.159310  165.922  0.576661   Hip-Hop  \n",
      "1    0.105880     0.461818  126.957  0.269240   Hip-Hop  \n",
      "2    0.373143     0.124595  100.260  0.621661   Hip-Hop  \n",
      "3    0.096567     0.525519  114.290  0.894072   Hip-Hop  \n",
      "118  0.614844     0.886914  180.025  0.401672   Hip-Hop  \n"
     ]
    }
   ],
   "source": [
    "hip_hop = merger_track.loc[merger_track['genre_top'] == 'Hip-Hop']\n",
    "rock = merger_track.loc[merger_track['genre_top'] == 'Rock']\n",
    "print(hip_hop.head())\n",
    "\n",
    "rock = rock.sample(n=len(hip_hop),random_state=10)\n",
    "\n",
    "rock_hiphop_balance = pd.concat([hip_hop,rock])\n",
    "\n",
    "feature = rock_hiphop_balance.drop(['genre_top', 'track_id'], axis=1) \n",
    "labels = rock_hiphop_balance['genre_top']\n",
    "pca_projection = pca.fit_transform(scaler.fit_transform(feature))\n",
    "\n",
    "train_features, test_features, train_labels, test_labels = train_test_split(pca_projection,labels,random_state=10)"
   ]
  },
  {
   "cell_type": "markdown",
   "id": "9c5b3c11",
   "metadata": {
    "papermill": {
     "duration": 0.025865,
     "end_time": "2022-08-21T21:13:22.438449",
     "exception": false,
     "start_time": "2022-08-21T21:13:22.412584",
     "status": "completed"
    },
    "tags": []
   },
   "source": [
    "# now fitting our data to logistic regression and decision tree for best prediction"
   ]
  },
  {
   "cell_type": "code",
   "execution_count": 17,
   "id": "0b2c72a1",
   "metadata": {
    "execution": {
     "iopub.execute_input": "2022-08-21T21:13:22.492835Z",
     "iopub.status.busy": "2022-08-21T21:13:22.492445Z",
     "iopub.status.idle": "2022-08-21T21:13:22.515298Z",
     "shell.execute_reply": "2022-08-21T21:13:22.514414Z"
    },
    "papermill": {
     "duration": 0.053317,
     "end_time": "2022-08-21T21:13:22.517834",
     "exception": false,
     "start_time": "2022-08-21T21:13:22.464517",
     "status": "completed"
    },
    "tags": []
   },
   "outputs": [],
   "source": [
    "d_tree = DecisionTreeClassifier(random_state=10)\n",
    "d_tree.fit(train_features,train_labels)\n",
    "predict_labels_tree = d_tree.predict(test_features)\n",
    "\n",
    "logregresion = LogisticRegression(random_state=10)\n",
    "logregresion.fit(train_features,train_labels)\n",
    "predict_labels_logistic = logregresion.predict(test_features)"
   ]
  },
  {
   "cell_type": "markdown",
   "id": "a7df1c95",
   "metadata": {
    "papermill": {
     "duration": 0.009753,
     "end_time": "2022-08-21T21:13:22.537699",
     "exception": false,
     "start_time": "2022-08-21T21:13:22.527946",
     "status": "completed"
    },
    "tags": []
   },
   "source": [
    "# comparing models"
   ]
  },
  {
   "cell_type": "code",
   "execution_count": 18,
   "id": "9ce9d50f",
   "metadata": {
    "execution": {
     "iopub.execute_input": "2022-08-21T21:13:22.560124Z",
     "iopub.status.busy": "2022-08-21T21:13:22.559395Z",
     "iopub.status.idle": "2022-08-21T21:13:22.594340Z",
     "shell.execute_reply": "2022-08-21T21:13:22.592791Z"
    },
    "papermill": {
     "duration": 0.049214,
     "end_time": "2022-08-21T21:13:22.597115",
     "exception": false,
     "start_time": "2022-08-21T21:13:22.547901",
     "status": "completed"
    },
    "tags": []
   },
   "outputs": [
    {
     "name": "stdout",
     "output_type": "stream",
     "text": [
      "Decision Tree: \n",
      "               precision    recall  f1-score   support\n",
      "\n",
      "     Hip-Hop       0.76      0.80      0.78       225\n",
      "        Rock       0.79      0.75      0.77       230\n",
      "\n",
      "    accuracy                           0.77       455\n",
      "   macro avg       0.77      0.77      0.77       455\n",
      "weighted avg       0.77      0.77      0.77       455\n",
      "\n",
      "Logistic Regression: \n",
      "               precision    recall  f1-score   support\n",
      "\n",
      "     Hip-Hop       0.83      0.80      0.82       225\n",
      "        Rock       0.81      0.84      0.83       230\n",
      "\n",
      "    accuracy                           0.82       455\n",
      "   macro avg       0.82      0.82      0.82       455\n",
      "weighted avg       0.82      0.82      0.82       455\n",
      "\n"
     ]
    }
   ],
   "source": [
    "print(\"Decision Tree: \\n\", classification_report(test_labels,predict_labels_tree))\n",
    "print(\"Logistic Regression: \\n\", classification_report(test_labels,predict_labels_logistic))"
   ]
  },
  {
   "cell_type": "markdown",
   "id": "faab27e8",
   "metadata": {
    "papermill": {
     "duration": 0.010074,
     "end_time": "2022-08-21T21:13:22.617529",
     "exception": false,
     "start_time": "2022-08-21T21:13:22.607455",
     "status": "completed"
    },
    "tags": []
   },
   "source": [
    "# since our data is split into train and test sets can impact model performance we have to use CV methond called K-fold"
   ]
  },
  {
   "cell_type": "code",
   "execution_count": 19,
   "id": "c1adfcd9",
   "metadata": {
    "execution": {
     "iopub.execute_input": "2022-08-21T21:13:22.640073Z",
     "iopub.status.busy": "2022-08-21T21:13:22.639661Z",
     "iopub.status.idle": "2022-08-21T21:13:22.977291Z",
     "shell.execute_reply": "2022-08-21T21:13:22.975652Z"
    },
    "papermill": {
     "duration": 0.353859,
     "end_time": "2022-08-21T21:13:22.981637",
     "exception": false,
     "start_time": "2022-08-21T21:13:22.627778",
     "status": "completed"
    },
    "tags": []
   },
   "outputs": [],
   "source": [
    "kf = StratifiedKFold(n_splits=10, shuffle=True, random_state=10)\n",
    "\n",
    "d_tree = DecisionTreeClassifier(random_state=10)\n",
    "logregresion = LogisticRegression(random_state=10)\n",
    "\n",
    "tree_score = cross_val_score(d_tree,pca_projection,labels,cv=kf)\n",
    "logistic_score = cross_val_score(logregresion,pca_projection,labels,cv=kf)"
   ]
  },
  {
   "cell_type": "code",
   "execution_count": 20,
   "id": "c41afa62",
   "metadata": {
    "execution": {
     "iopub.execute_input": "2022-08-21T21:13:23.037306Z",
     "iopub.status.busy": "2022-08-21T21:13:23.035857Z",
     "iopub.status.idle": "2022-08-21T21:13:23.053981Z",
     "shell.execute_reply": "2022-08-21T21:13:23.052297Z"
    },
    "papermill": {
     "duration": 0.052046,
     "end_time": "2022-08-21T21:13:23.059694",
     "exception": false,
     "start_time": "2022-08-21T21:13:23.007648",
     "status": "completed"
    },
    "tags": []
   },
   "outputs": [
    {
     "name": "stdout",
     "output_type": "stream",
     "text": [
      "Decision Tree: 0.787912087912088 Logistic Regression: 0.8208791208791208\n"
     ]
    }
   ],
   "source": [
    "print(\"Decision Tree:\", np.mean(tree_score), \"Logistic Regression:\", np.mean(logistic_score))"
   ]
  },
  {
   "cell_type": "markdown",
   "id": "c8ded69a",
   "metadata": {
    "papermill": {
     "duration": 0.014134,
     "end_time": "2022-08-21T21:13:23.100365",
     "exception": false,
     "start_time": "2022-08-21T21:13:23.086231",
     "status": "completed"
    },
    "tags": []
   },
   "source": [
    "# Finally, we get aggregate results from each fold for a final model performance score"
   ]
  }
 ],
 "metadata": {
  "kernelspec": {
   "display_name": "Python 3",
   "language": "python",
   "name": "python3"
  },
  "language_info": {
   "codemirror_mode": {
    "name": "ipython",
    "version": 3
   },
   "file_extension": ".py",
   "mimetype": "text/x-python",
   "name": "python",
   "nbconvert_exporter": "python",
   "pygments_lexer": "ipython3",
   "version": "3.7.12"
  },
  "papermill": {
   "default_parameters": {},
   "duration": 14.694361,
   "end_time": "2022-08-21T21:13:24.132533",
   "environment_variables": {},
   "exception": null,
   "input_path": "__notebook__.ipynb",
   "output_path": "__notebook__.ipynb",
   "parameters": {},
   "start_time": "2022-08-21T21:13:09.438172",
   "version": "2.3.4"
  }
 },
 "nbformat": 4,
 "nbformat_minor": 5
}
